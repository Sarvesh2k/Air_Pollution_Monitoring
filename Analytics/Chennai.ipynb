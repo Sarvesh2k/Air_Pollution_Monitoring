{
  "nbformat": 4,
  "nbformat_minor": 0,
  "metadata": {
    "colab": {
      "name": "Chennai.ipynb",
      "provenance": []
    },
    "kernelspec": {
      "name": "python3",
      "display_name": "Python 3"
    },
    "language_info": {
      "name": "python"
    }
  },
  "cells": [
    {
      "cell_type": "code",
      "metadata": {
        "id": "60oJDwBJUMOa"
      },
      "source": [
        "import numpy as np # linear algebra\n",
        "import pandas as pd # data processing, CSV file I/O (e.g. pd.read_csv)\n",
        " \n",
        "import matplotlib.pyplot as plt\n",
        "import seaborn as sns\n",
        " \n",
        "%matplotlib inline\n",
        "plt.rcParams['figure.figsize'] = (10, 7)\n",
        " \n",
        "# Warnings\n",
        "import warnings\n",
        "warnings.filterwarnings('ignore')\n",
        " \n",
        "# Input data files are available in the \"../input/\" directory.\n",
        "# For example, running this (by clicking run or pressing Shift+Enter) will list the files in the input directory"
      ],
      "execution_count": null,
      "outputs": []
    },
    {
      "cell_type": "code",
      "metadata": {
        "colab": {
          "base_uri": "https://localhost:8080/",
          "height": 564
        },
        "id": "nA7-AxnmV_fg",
        "outputId": "7db3a4fc-4d4b-4e11-f389-0b820a29c4ed"
      },
      "source": [
        "df=pd.read_csv('/content/drive/MyDrive/data.csv',encoding=\"ISO-8859-1\")\n",
        "df.fillna(0, inplace=True)\n",
        "data = df.loc[df['location'] == 'Chennai']\n",
        "data.tail()"
      ],
      "execution_count": null,
      "outputs": [
        {
          "output_type": "execute_result",
          "data": {
            "text/html": [
              "<div>\n",
              "<style scoped>\n",
              "    .dataframe tbody tr th:only-of-type {\n",
              "        vertical-align: middle;\n",
              "    }\n",
              "\n",
              "    .dataframe tbody tr th {\n",
              "        vertical-align: top;\n",
              "    }\n",
              "\n",
              "    .dataframe thead th {\n",
              "        text-align: right;\n",
              "    }\n",
              "</style>\n",
              "<table border=\"1\" class=\"dataframe\">\n",
              "  <thead>\n",
              "    <tr style=\"text-align: right;\">\n",
              "      <th></th>\n",
              "      <th>stn_code</th>\n",
              "      <th>sampling_date</th>\n",
              "      <th>state</th>\n",
              "      <th>location</th>\n",
              "      <th>agency</th>\n",
              "      <th>type</th>\n",
              "      <th>so2</th>\n",
              "      <th>no2</th>\n",
              "      <th>rspm</th>\n",
              "      <th>spm</th>\n",
              "      <th>location_monitoring_station</th>\n",
              "      <th>pm2_5</th>\n",
              "      <th>date</th>\n",
              "    </tr>\n",
              "  </thead>\n",
              "  <tbody>\n",
              "    <tr>\n",
              "      <th>364025</th>\n",
              "      <td>768</td>\n",
              "      <td>14-12-15</td>\n",
              "      <td>Tamil Nadu</td>\n",
              "      <td>Chennai</td>\n",
              "      <td>Tamilnadu State Pollution Control Board</td>\n",
              "      <td>Residential, Rural and other Areas</td>\n",
              "      <td>12.0</td>\n",
              "      <td>18.0</td>\n",
              "      <td>69.0</td>\n",
              "      <td>0.0</td>\n",
              "      <td>Vallalar Nagar, Chennai</td>\n",
              "      <td>0.0</td>\n",
              "      <td>2015-12-14</td>\n",
              "    </tr>\n",
              "    <tr>\n",
              "      <th>364026</th>\n",
              "      <td>768</td>\n",
              "      <td>16-12-15</td>\n",
              "      <td>Tamil Nadu</td>\n",
              "      <td>Chennai</td>\n",
              "      <td>Tamilnadu State Pollution Control Board</td>\n",
              "      <td>Residential, Rural and other Areas</td>\n",
              "      <td>13.0</td>\n",
              "      <td>20.0</td>\n",
              "      <td>77.0</td>\n",
              "      <td>0.0</td>\n",
              "      <td>Vallalar Nagar, Chennai</td>\n",
              "      <td>0.0</td>\n",
              "      <td>2015-12-16</td>\n",
              "    </tr>\n",
              "    <tr>\n",
              "      <th>364027</th>\n",
              "      <td>768</td>\n",
              "      <td>18-12-15</td>\n",
              "      <td>Tamil Nadu</td>\n",
              "      <td>Chennai</td>\n",
              "      <td>Tamilnadu State Pollution Control Board</td>\n",
              "      <td>Residential, Rural and other Areas</td>\n",
              "      <td>11.0</td>\n",
              "      <td>18.0</td>\n",
              "      <td>58.0</td>\n",
              "      <td>0.0</td>\n",
              "      <td>Vallalar Nagar, Chennai</td>\n",
              "      <td>0.0</td>\n",
              "      <td>2015-12-18</td>\n",
              "    </tr>\n",
              "    <tr>\n",
              "      <th>364028</th>\n",
              "      <td>768</td>\n",
              "      <td>22-12-15</td>\n",
              "      <td>Tamil Nadu</td>\n",
              "      <td>Chennai</td>\n",
              "      <td>Tamilnadu State Pollution Control Board</td>\n",
              "      <td>Residential, Rural and other Areas</td>\n",
              "      <td>13.0</td>\n",
              "      <td>16.0</td>\n",
              "      <td>50.0</td>\n",
              "      <td>0.0</td>\n",
              "      <td>Vallalar Nagar, Chennai</td>\n",
              "      <td>0.0</td>\n",
              "      <td>2015-12-22</td>\n",
              "    </tr>\n",
              "    <tr>\n",
              "      <th>364029</th>\n",
              "      <td>768</td>\n",
              "      <td>28-12-15</td>\n",
              "      <td>Tamil Nadu</td>\n",
              "      <td>Chennai</td>\n",
              "      <td>Tamilnadu State Pollution Control Board</td>\n",
              "      <td>Residential, Rural and other Areas</td>\n",
              "      <td>16.0</td>\n",
              "      <td>20.0</td>\n",
              "      <td>137.0</td>\n",
              "      <td>0.0</td>\n",
              "      <td>Vallalar Nagar, Chennai</td>\n",
              "      <td>0.0</td>\n",
              "      <td>2015-12-28</td>\n",
              "    </tr>\n",
              "  </tbody>\n",
              "</table>\n",
              "</div>"
            ],
            "text/plain": [
              "       stn_code sampling_date  ... pm2_5        date\n",
              "364025      768      14-12-15  ...   0.0  2015-12-14\n",
              "364026      768      16-12-15  ...   0.0  2015-12-16\n",
              "364027      768      18-12-15  ...   0.0  2015-12-18\n",
              "364028      768      22-12-15  ...   0.0  2015-12-22\n",
              "364029      768      28-12-15  ...   0.0  2015-12-28\n",
              "\n",
              "[5 rows x 13 columns]"
            ]
          },
          "metadata": {
            "tags": []
          },
          "execution_count": 3
        }
      ]
    },
    {
      "cell_type": "code",
      "metadata": {
        "colab": {
          "base_uri": "https://localhost:8080/"
        },
        "id": "4o6Y2EtXsJMa",
        "outputId": "cc555288-02a3-4117-cf53-9bb912d1b76c"
      },
      "source": [
        "from google.colab import drive\n",
        "drive.mount('/content/drive')"
      ],
      "execution_count": null,
      "outputs": [
        {
          "output_type": "stream",
          "text": [
            "Mounted at /content/drive\n"
          ],
          "name": "stdout"
        }
      ]
    },
    {
      "cell_type": "code",
      "metadata": {
        "id": "euXq6AUaWu1u"
      },
      "source": [
        "#Function to calculate so2 individual pollutant index(si)\n",
        "def calculate_si(so2):\n",
        "    si=0\n",
        "    if (so2<=40):\n",
        "     si= so2*(50/40)\n",
        "    if (so2>40 and so2<=80):\n",
        "     si= 50+(so2-40)*(50/40)\n",
        "    if (so2>80 and so2<=380):\n",
        "     si= 100+(so2-80)*(100/300)\n",
        "    if (so2>380 and so2<=800):\n",
        "     si= 200+(so2-380)*(100/800)\n",
        "    if (so2>800 and so2<=1600):\n",
        "     si= 300+(so2-800)*(100/800)\n",
        "    if (so2>1600):\n",
        "     si= 400+(so2-1600)*(100/800)\n",
        "    return si\n",
        "data['si']=data['so2'].apply(calculate_si)\n",
        "df= data[['so2','si']]"
      ],
      "execution_count": null,
      "outputs": []
    },
    {
      "cell_type": "code",
      "metadata": {
        "id": "r7jhAyZDXI3t"
      },
      "source": [
        "def calculate_ni(no2):\n",
        "    ni=0\n",
        "    if(no2<=40):\n",
        "     ni= no2*50/40\n",
        "    elif(no2>40 and no2<=80):\n",
        "     ni= 50+(no2-14)*(50/40)\n",
        "    elif(no2>80 and no2<=180):\n",
        "     ni= 100+(no2-80)*(100/100)\n",
        "    elif(no2>180 and no2<=280):\n",
        "     ni= 200+(no2-180)*(100/100)\n",
        "    elif(no2>280 and no2<=400):\n",
        "     ni= 300+(no2-280)*(100/120)\n",
        "    else:\n",
        "     ni= 400+(no2-400)*(100/120)\n",
        "    return ni\n",
        "data['ni']=data['no2'].apply(calculate_ni)\n",
        "df= data[['no2','ni']]"
      ],
      "execution_count": null,
      "outputs": []
    },
    {
      "cell_type": "code",
      "metadata": {
        "id": "SO6mS8kEXQAp"
      },
      "source": [
        "def calculate_(rspm):\n",
        "    rpi=0\n",
        "    if(rpi<=30):\n",
        "     rpi=rpi*50/30\n",
        "    elif(rpi>30 and rpi<=60):\n",
        "     rpi=50+(rpi-30)*50/30\n",
        "    elif(rpi>60 and rpi<=90):\n",
        "     rpi=100+(rpi-60)*100/30\n",
        "    elif(rpi>90 and rpi<=120):\n",
        "     rpi=200+(rpi-90)*100/30\n",
        "    elif(rpi>120 and rpi<=250):\n",
        "     rpi=300+(rpi-120)*(100/130)\n",
        "    else:\n",
        "     rpi=400+(rpi-250)*(100/130)\n",
        "    return rpi\n",
        "data['rpi']=data['rspm'].apply(calculate_si)\n",
        "df= data[['rspm','rpi']]\n"
      ],
      "execution_count": null,
      "outputs": []
    },
    {
      "cell_type": "code",
      "metadata": {
        "id": "LKlGv3hxXbcs"
      },
      "source": [
        "def calculate_spi(spm):\n",
        "    spi=0\n",
        "    if(spm<=50):\n",
        "     spi=spm\n",
        "    if(spm<50 and spm<=100):\n",
        "     spi=spm\n",
        "    elif(spm>100 and spm<=250):\n",
        "     spi= 100+(spm-100)*(100/150)\n",
        "    elif(spm>250 and spm<=350):\n",
        "     spi=200+(spm-250)\n",
        "    elif(spm>350 and spm<=450):\n",
        "     spi=300+(spm-350)*(100/80)\n",
        "    else:\n",
        "     spi=400+(spm-430)*(100/80)\n",
        "    return spi\n",
        "data['spi']=data['spm'].apply(calculate_spi)\n",
        "df= data[['spm','spi']]"
      ],
      "execution_count": null,
      "outputs": []
    },
    {
      "cell_type": "code",
      "metadata": {
        "colab": {
          "base_uri": "https://localhost:8080/",
          "height": 204
        },
        "id": "QLvqdAzwXh1I",
        "outputId": "1f626281-77c1-47be-c0bd-da3f71dfd07d"
      },
      "source": [
        "#function to calculate the air quality index (AQI) of every data value\n",
        "#its is calculated as per indian govt standards\n",
        "def calculate_aqi(si,ni,spi,rpi):\n",
        "    aqi=0\n",
        "    if(si>ni and si>spi and si>rpi):\n",
        "     aqi=si\n",
        "    if(spi>si and spi>ni and spi>rpi):\n",
        "     aqi=spi\n",
        "    if(ni>si and ni>spi and ni>rpi):\n",
        "     aqi=ni\n",
        "    if(rpi>si and rpi>ni and rpi>spi):\n",
        "     aqi=rpi\n",
        "    return aqi\n",
        "data['AQI']=data.apply(lambda x:calculate_aqi(x['si'],x['ni'],x['spi'],x['rpi']),axis=1)\n",
        "df= data[['sampling_date','state','si','ni','rpi','spi','AQI']]\n",
        "df.head()"
      ],
      "execution_count": null,
      "outputs": [
        {
          "output_type": "execute_result",
          "data": {
            "text/html": [
              "<div>\n",
              "<style scoped>\n",
              "    .dataframe tbody tr th:only-of-type {\n",
              "        vertical-align: middle;\n",
              "    }\n",
              "\n",
              "    .dataframe tbody tr th {\n",
              "        vertical-align: top;\n",
              "    }\n",
              "\n",
              "    .dataframe thead th {\n",
              "        text-align: right;\n",
              "    }\n",
              "</style>\n",
              "<table border=\"1\" class=\"dataframe\">\n",
              "  <thead>\n",
              "    <tr style=\"text-align: right;\">\n",
              "      <th></th>\n",
              "      <th>sampling_date</th>\n",
              "      <th>state</th>\n",
              "      <th>si</th>\n",
              "      <th>ni</th>\n",
              "      <th>rpi</th>\n",
              "      <th>spi</th>\n",
              "      <th>AQI</th>\n",
              "    </tr>\n",
              "  </thead>\n",
              "  <tbody>\n",
              "    <tr>\n",
              "      <th>345275</th>\n",
              "      <td>1/2/2004</td>\n",
              "      <td>Tamil Nadu</td>\n",
              "      <td>7.5000</td>\n",
              "      <td>15.9375</td>\n",
              "      <td>70.4125</td>\n",
              "      <td>100.886667</td>\n",
              "      <td>100.886667</td>\n",
              "    </tr>\n",
              "    <tr>\n",
              "      <th>345276</th>\n",
              "      <td>1/5/2004</td>\n",
              "      <td>Tamil Nadu</td>\n",
              "      <td>7.5000</td>\n",
              "      <td>8.7500</td>\n",
              "      <td>47.9125</td>\n",
              "      <td>111.333333</td>\n",
              "      <td>111.333333</td>\n",
              "    </tr>\n",
              "    <tr>\n",
              "      <th>345277</th>\n",
              "      <td>1/8/2004</td>\n",
              "      <td>Tamil Nadu</td>\n",
              "      <td>7.5000</td>\n",
              "      <td>6.7750</td>\n",
              "      <td>54.5875</td>\n",
              "      <td>118.220000</td>\n",
              "      <td>118.220000</td>\n",
              "    </tr>\n",
              "    <tr>\n",
              "      <th>345278</th>\n",
              "      <td>1/12/2004</td>\n",
              "      <td>Tamil Nadu</td>\n",
              "      <td>7.5000</td>\n",
              "      <td>21.0375</td>\n",
              "      <td>60.8375</td>\n",
              "      <td>112.666667</td>\n",
              "      <td>112.666667</td>\n",
              "    </tr>\n",
              "    <tr>\n",
              "      <th>345279</th>\n",
              "      <td>19-01-04</td>\n",
              "      <td>Tamil Nadu</td>\n",
              "      <td>7.7125</td>\n",
              "      <td>16.1500</td>\n",
              "      <td>52.0875</td>\n",
              "      <td>108.220000</td>\n",
              "      <td>108.220000</td>\n",
              "    </tr>\n",
              "  </tbody>\n",
              "</table>\n",
              "</div>"
            ],
            "text/plain": [
              "       sampling_date       state      si  ...      rpi         spi         AQI\n",
              "345275      1/2/2004  Tamil Nadu  7.5000  ...  70.4125  100.886667  100.886667\n",
              "345276      1/5/2004  Tamil Nadu  7.5000  ...  47.9125  111.333333  111.333333\n",
              "345277      1/8/2004  Tamil Nadu  7.5000  ...  54.5875  118.220000  118.220000\n",
              "345278     1/12/2004  Tamil Nadu  7.5000  ...  60.8375  112.666667  112.666667\n",
              "345279      19-01-04  Tamil Nadu  7.7125  ...  52.0875  108.220000  108.220000\n",
              "\n",
              "[5 rows x 7 columns]"
            ]
          },
          "metadata": {
            "tags": []
          },
          "execution_count": 8
        }
      ]
    },
    {
      "cell_type": "code",
      "metadata": {
        "colab": {
          "base_uri": "https://localhost:8080/",
          "height": 623
        },
        "id": "o5-qL-pJXk0b",
        "outputId": "1ded4382-8db2-4447-b241-1b67092bf1c7"
      },
      "source": [
        "data['date'] = pd.to_datetime(data['date'],format='%Y-%m-%d') # date parse\n",
        "data['year'] = data['date'].dt.year # year\n",
        "data['year'] = data['year'].fillna(0.0).astype(int)\n",
        "data = data[(data['year']>0)]\n",
        "\n",
        "df = data[['AQI','year','state']].groupby([\"year\"]).median().reset_index().sort_values(by='year',ascending=False)\n",
        "f,ax=plt.subplots(figsize=(15,10))\n",
        "sns.pointplot(x='year', y='AQI', data=df)"
      ],
      "execution_count": null,
      "outputs": [
        {
          "output_type": "execute_result",
          "data": {
            "text/plain": [
              "<matplotlib.axes._subplots.AxesSubplot at 0x7f1744561ad0>"
            ]
          },
          "metadata": {
            "tags": []
          },
          "execution_count": 9
        },
        {
          "output_type": "display_data",
          "data": {
            "image/png": "[encoded data removed]",
            "text/plain": [
              "<Figure size 1080x720 with 1 Axes>"
            ]
          },
          "metadata": {
            "tags": [],
            "needs_background": "light"
          }
        }
      ]
    },
    {
      "cell_type": "code",
      "metadata": {
        "colab": {
          "base_uri": "https://localhost:8080/",
          "height": 669
        },
        "id": "BPNiCMTdX10e",
        "outputId": "d815a03b-b12b-474f-e27e-a9624e7ff1d6"
      },
      "source": [
        "import warnings\n",
        "import itertools\n",
        "import dateutil\n",
        "import statsmodels.api as sm\n",
        "import matplotlib.pyplot as plt\n",
        "import matplotlib.dates as mdates\n",
        "import seaborn as sns\n",
        "%matplotlib inline\n",
        "df=data[['AQI','date']]\n",
        "df[\"date\"] = pd.to_datetime(df['date'])\n",
        "df.tail(20)"
      ],
      "execution_count": null,
      "outputs": [
        {
          "output_type": "execute_result",
          "data": {
            "text/html": [
              "<div>\n",
              "<style scoped>\n",
              "    .dataframe tbody tr th:only-of-type {\n",
              "        vertical-align: middle;\n",
              "    }\n",
              "\n",
              "    .dataframe tbody tr th {\n",
              "        vertical-align: top;\n",
              "    }\n",
              "\n",
              "    .dataframe thead th {\n",
              "        text-align: right;\n",
              "    }\n",
              "</style>\n",
              "<table border=\"1\" class=\"dataframe\">\n",
              "  <thead>\n",
              "    <tr style=\"text-align: right;\">\n",
              "      <th></th>\n",
              "      <th>AQI</th>\n",
              "      <th>date</th>\n",
              "    </tr>\n",
              "  </thead>\n",
              "  <tbody>\n",
              "    <tr>\n",
              "      <th>364010</th>\n",
              "      <td>92.500000</td>\n",
              "      <td>2015-08-20</td>\n",
              "    </tr>\n",
              "    <tr>\n",
              "      <th>364011</th>\n",
              "      <td>109.333333</td>\n",
              "      <td>2015-08-25</td>\n",
              "    </tr>\n",
              "    <tr>\n",
              "      <th>364012</th>\n",
              "      <td>61.250000</td>\n",
              "      <td>2015-08-27</td>\n",
              "    </tr>\n",
              "    <tr>\n",
              "      <th>364013</th>\n",
              "      <td>66.250000</td>\n",
              "      <td>2015-10-01</td>\n",
              "    </tr>\n",
              "    <tr>\n",
              "      <th>364014</th>\n",
              "      <td>103.333333</td>\n",
              "      <td>2015-10-06</td>\n",
              "    </tr>\n",
              "    <tr>\n",
              "      <th>364015</th>\n",
              "      <td>72.500000</td>\n",
              "      <td>2015-10-08</td>\n",
              "    </tr>\n",
              "    <tr>\n",
              "      <th>364016</th>\n",
              "      <td>66.250000</td>\n",
              "      <td>2015-10-13</td>\n",
              "    </tr>\n",
              "    <tr>\n",
              "      <th>364017</th>\n",
              "      <td>103.333333</td>\n",
              "      <td>2015-10-15</td>\n",
              "    </tr>\n",
              "    <tr>\n",
              "      <th>364018</th>\n",
              "      <td>100.000000</td>\n",
              "      <td>2015-10-20</td>\n",
              "    </tr>\n",
              "    <tr>\n",
              "      <th>364019</th>\n",
              "      <td>100.666667</td>\n",
              "      <td>2015-10-27</td>\n",
              "    </tr>\n",
              "    <tr>\n",
              "      <th>364020</th>\n",
              "      <td>75.000000</td>\n",
              "      <td>2015-10-29</td>\n",
              "    </tr>\n",
              "    <tr>\n",
              "      <th>364021</th>\n",
              "      <td>105.666667</td>\n",
              "      <td>2015-11-03</td>\n",
              "    </tr>\n",
              "    <tr>\n",
              "      <th>364022</th>\n",
              "      <td>85.000000</td>\n",
              "      <td>2015-11-18</td>\n",
              "    </tr>\n",
              "    <tr>\n",
              "      <th>364023</th>\n",
              "      <td>52.500000</td>\n",
              "      <td>2015-11-20</td>\n",
              "    </tr>\n",
              "    <tr>\n",
              "      <th>364024</th>\n",
              "      <td>103.333333</td>\n",
              "      <td>2015-11-25</td>\n",
              "    </tr>\n",
              "    <tr>\n",
              "      <th>364025</th>\n",
              "      <td>86.250000</td>\n",
              "      <td>2015-12-14</td>\n",
              "    </tr>\n",
              "    <tr>\n",
              "      <th>364026</th>\n",
              "      <td>96.250000</td>\n",
              "      <td>2015-12-16</td>\n",
              "    </tr>\n",
              "    <tr>\n",
              "      <th>364027</th>\n",
              "      <td>72.500000</td>\n",
              "      <td>2015-12-18</td>\n",
              "    </tr>\n",
              "    <tr>\n",
              "      <th>364028</th>\n",
              "      <td>62.500000</td>\n",
              "      <td>2015-12-22</td>\n",
              "    </tr>\n",
              "    <tr>\n",
              "      <th>364029</th>\n",
              "      <td>119.000000</td>\n",
              "      <td>2015-12-28</td>\n",
              "    </tr>\n",
              "  </tbody>\n",
              "</table>\n",
              "</div>"
            ],
            "text/plain": [
              "               AQI       date\n",
              "364010   92.500000 2015-08-20\n",
              "364011  109.333333 2015-08-25\n",
              "364012   61.250000 2015-08-27\n",
              "364013   66.250000 2015-10-01\n",
              "364014  103.333333 2015-10-06\n",
              "364015   72.500000 2015-10-08\n",
              "364016   66.250000 2015-10-13\n",
              "364017  103.333333 2015-10-15\n",
              "364018  100.000000 2015-10-20\n",
              "364019  100.666667 2015-10-27\n",
              "364020   75.000000 2015-10-29\n",
              "364021  105.666667 2015-11-03\n",
              "364022   85.000000 2015-11-18\n",
              "364023   52.500000 2015-11-20\n",
              "364024  103.333333 2015-11-25\n",
              "364025   86.250000 2015-12-14\n",
              "364026   96.250000 2015-12-16\n",
              "364027   72.500000 2015-12-18\n",
              "364028   62.500000 2015-12-22\n",
              "364029  119.000000 2015-12-28"
            ]
          },
          "metadata": {
            "tags": []
          },
          "execution_count": 10
        }
      ]
    },
    {
      "cell_type": "code",
      "metadata": {
        "colab": {
          "base_uri": "https://localhost:8080/"
        },
        "id": "lUz82QZyY_6p",
        "outputId": "056d71a9-0989-49e4-9bfa-a7111a6b722e"
      },
      "source": [
        "df=df.set_index('date').resample('M')[\"AQI\"].mean()\n",
        "df.head()"
      ],
      "execution_count": null,
      "outputs": [
        {
          "output_type": "execute_result",
          "data": {
            "text/plain": [
              "date\n",
              "2004-01-31     93.039907\n",
              "2004-02-29    113.320312\n",
              "2004-03-31    100.685913\n",
              "2004-04-30     95.847500\n",
              "2004-05-31     95.117525\n",
              "Freq: M, Name: AQI, dtype: float64"
            ]
          },
          "metadata": {
            "tags": []
          },
          "execution_count": 11
        }
      ]
    },
    {
      "cell_type": "code",
      "metadata": {
        "colab": {
          "base_uri": "https://localhost:8080/",
          "height": 204
        },
        "id": "awi1xdh2ZffJ",
        "outputId": "3a2222d3-4e24-4ef0-e000-77e97e349d49"
      },
      "source": [
        "#preprocessing the data values\n",
        "data=df.reset_index(level=0, inplace=False)\n",
        "data = data[np.isfinite(data['AQI'])]\n",
        "data=data[data.date != '1970-01-31']\n",
        "data = data.reset_index(drop=True)\n",
        "data.head()\n"
      ],
      "execution_count": null,
      "outputs": [
        {
          "output_type": "execute_result",
          "data": {
            "text/html": [
              "<div>\n",
              "<style scoped>\n",
              "    .dataframe tbody tr th:only-of-type {\n",
              "        vertical-align: middle;\n",
              "    }\n",
              "\n",
              "    .dataframe tbody tr th {\n",
              "        vertical-align: top;\n",
              "    }\n",
              "\n",
              "    .dataframe thead th {\n",
              "        text-align: right;\n",
              "    }\n",
              "</style>\n",
              "<table border=\"1\" class=\"dataframe\">\n",
              "  <thead>\n",
              "    <tr style=\"text-align: right;\">\n",
              "      <th></th>\n",
              "      <th>date</th>\n",
              "      <th>AQI</th>\n",
              "    </tr>\n",
              "  </thead>\n",
              "  <tbody>\n",
              "    <tr>\n",
              "      <th>0</th>\n",
              "      <td>2004-01-31</td>\n",
              "      <td>93.039907</td>\n",
              "    </tr>\n",
              "    <tr>\n",
              "      <th>1</th>\n",
              "      <td>2004-02-29</td>\n",
              "      <td>113.320312</td>\n",
              "    </tr>\n",
              "    <tr>\n",
              "      <th>2</th>\n",
              "      <td>2004-03-31</td>\n",
              "      <td>100.685913</td>\n",
              "    </tr>\n",
              "    <tr>\n",
              "      <th>3</th>\n",
              "      <td>2004-04-30</td>\n",
              "      <td>95.847500</td>\n",
              "    </tr>\n",
              "    <tr>\n",
              "      <th>4</th>\n",
              "      <td>2004-05-31</td>\n",
              "      <td>95.117525</td>\n",
              "    </tr>\n",
              "  </tbody>\n",
              "</table>\n",
              "</div>"
            ],
            "text/plain": [
              "        date         AQI\n",
              "0 2004-01-31   93.039907\n",
              "1 2004-02-29  113.320312\n",
              "2 2004-03-31  100.685913\n",
              "3 2004-04-30   95.847500\n",
              "4 2004-05-31   95.117525"
            ]
          },
          "metadata": {
            "tags": []
          },
          "execution_count": 12
        }
      ]
    },
    {
      "cell_type": "code",
      "metadata": {
        "colab": {
          "base_uri": "https://localhost:8080/",
          "height": 450
        },
        "id": "RRv6VVV5d4Vx",
        "outputId": "5bf9316b-5de7-4c51-8523-37931ab4d302"
      },
      "source": [
        "df=data.set_index('date')\n",
        "df.sort_values(by='date',ascending=False)"
      ],
      "execution_count": null,
      "outputs": [
        {
          "output_type": "execute_result",
          "data": {
            "text/html": [
              "<div>\n",
              "<style scoped>\n",
              "    .dataframe tbody tr th:only-of-type {\n",
              "        vertical-align: middle;\n",
              "    }\n",
              "\n",
              "    .dataframe tbody tr th {\n",
              "        vertical-align: top;\n",
              "    }\n",
              "\n",
              "    .dataframe thead th {\n",
              "        text-align: right;\n",
              "    }\n",
              "</style>\n",
              "<table border=\"1\" class=\"dataframe\">\n",
              "  <thead>\n",
              "    <tr style=\"text-align: right;\">\n",
              "      <th></th>\n",
              "      <th>AQI</th>\n",
              "    </tr>\n",
              "    <tr>\n",
              "      <th>date</th>\n",
              "      <th></th>\n",
              "    </tr>\n",
              "  </thead>\n",
              "  <tbody>\n",
              "    <tr>\n",
              "      <th>2015-12-31</th>\n",
              "      <td>75.466102</td>\n",
              "    </tr>\n",
              "    <tr>\n",
              "      <th>2015-11-30</th>\n",
              "      <td>66.892655</td>\n",
              "    </tr>\n",
              "    <tr>\n",
              "      <th>2015-10-31</th>\n",
              "      <td>65.459877</td>\n",
              "    </tr>\n",
              "    <tr>\n",
              "      <th>2015-09-30</th>\n",
              "      <td>42.934783</td>\n",
              "    </tr>\n",
              "    <tr>\n",
              "      <th>2015-08-31</th>\n",
              "      <td>61.633895</td>\n",
              "    </tr>\n",
              "    <tr>\n",
              "      <th>...</th>\n",
              "      <td>...</td>\n",
              "    </tr>\n",
              "    <tr>\n",
              "      <th>2004-05-31</th>\n",
              "      <td>95.117525</td>\n",
              "    </tr>\n",
              "    <tr>\n",
              "      <th>2004-04-30</th>\n",
              "      <td>95.847500</td>\n",
              "    </tr>\n",
              "    <tr>\n",
              "      <th>2004-03-31</th>\n",
              "      <td>100.685913</td>\n",
              "    </tr>\n",
              "    <tr>\n",
              "      <th>2004-02-29</th>\n",
              "      <td>113.320312</td>\n",
              "    </tr>\n",
              "    <tr>\n",
              "      <th>2004-01-31</th>\n",
              "      <td>93.039907</td>\n",
              "    </tr>\n",
              "  </tbody>\n",
              "</table>\n",
              "<p>144 rows × 1 columns</p>\n",
              "</div>"
            ],
            "text/plain": [
              "                   AQI\n",
              "date                  \n",
              "2015-12-31   75.466102\n",
              "2015-11-30   66.892655\n",
              "2015-10-31   65.459877\n",
              "2015-09-30   42.934783\n",
              "2015-08-31   61.633895\n",
              "...                ...\n",
              "2004-05-31   95.117525\n",
              "2004-04-30   95.847500\n",
              "2004-03-31  100.685913\n",
              "2004-02-29  113.320312\n",
              "2004-01-31   93.039907\n",
              "\n",
              "[144 rows x 1 columns]"
            ]
          },
          "metadata": {
            "tags": []
          },
          "execution_count": 13
        }
      ]
    },
    {
      "cell_type": "code",
      "metadata": {
        "id": "eIV9Gsj8aB2D"
      },
      "source": [
        "df=data[['AQI','date']]\n",
        "\n",
        "df['date']=pd.to_datetime(df['date'])\n",
        "date=df.groupby(pd.Grouper(key='date',freq='1MS'))[\"AQI\"].mean()"
      ],
      "execution_count": null,
      "outputs": []
    },
    {
      "cell_type": "code",
      "metadata": {
        "id": "5tafZkT9bCId"
      },
      "source": [
        "data['month'] = data['date'].dt.month\n",
        "data['year'] = data['date'].dt.year\n",
        "data=data[['AQI','date','month','year']]\n"
      ],
      "execution_count": null,
      "outputs": []
    },
    {
      "cell_type": "code",
      "metadata": {
        "id": "AcZmiQNsdyRr"
      },
      "source": [
        "data=data[data['month']==1]"
      ],
      "execution_count": null,
      "outputs": []
    },
    {
      "cell_type": "code",
      "metadata": {
        "colab": {
          "base_uri": "https://localhost:8080/",
          "height": 297
        },
        "id": "I_ulu3tXeRij",
        "outputId": "a3170396-69d0-4e3c-c656-7ed8e1621be8"
      },
      "source": [
        "df = data[['AQI','year']].groupby([\"year\"]).mean().reset_index().sort_values(by='year',ascending=False)\n",
        "df=df.dropna()\n",
        "dd=df\n",
        "df.describe()"
      ],
      "execution_count": null,
      "outputs": [
        {
          "output_type": "execute_result",
          "data": {
            "text/html": [
              "<div>\n",
              "<style scoped>\n",
              "    .dataframe tbody tr th:only-of-type {\n",
              "        vertical-align: middle;\n",
              "    }\n",
              "\n",
              "    .dataframe tbody tr th {\n",
              "        vertical-align: top;\n",
              "    }\n",
              "\n",
              "    .dataframe thead th {\n",
              "        text-align: right;\n",
              "    }\n",
              "</style>\n",
              "<table border=\"1\" class=\"dataframe\">\n",
              "  <thead>\n",
              "    <tr style=\"text-align: right;\">\n",
              "      <th></th>\n",
              "      <th>year</th>\n",
              "      <th>AQI</th>\n",
              "    </tr>\n",
              "  </thead>\n",
              "  <tbody>\n",
              "    <tr>\n",
              "      <th>count</th>\n",
              "      <td>12.000000</td>\n",
              "      <td>12.000000</td>\n",
              "    </tr>\n",
              "    <tr>\n",
              "      <th>mean</th>\n",
              "      <td>2009.500000</td>\n",
              "      <td>102.362604</td>\n",
              "    </tr>\n",
              "    <tr>\n",
              "      <th>std</th>\n",
              "      <td>3.605551</td>\n",
              "      <td>29.373511</td>\n",
              "    </tr>\n",
              "    <tr>\n",
              "      <th>min</th>\n",
              "      <td>2004.000000</td>\n",
              "      <td>60.412286</td>\n",
              "    </tr>\n",
              "    <tr>\n",
              "      <th>25%</th>\n",
              "      <td>2006.750000</td>\n",
              "      <td>75.315339</td>\n",
              "    </tr>\n",
              "    <tr>\n",
              "      <th>50%</th>\n",
              "      <td>2009.500000</td>\n",
              "      <td>106.232955</td>\n",
              "    </tr>\n",
              "    <tr>\n",
              "      <th>75%</th>\n",
              "      <td>2012.250000</td>\n",
              "      <td>125.017857</td>\n",
              "    </tr>\n",
              "    <tr>\n",
              "      <th>max</th>\n",
              "      <td>2015.000000</td>\n",
              "      <td>141.247549</td>\n",
              "    </tr>\n",
              "  </tbody>\n",
              "</table>\n",
              "</div>"
            ],
            "text/plain": [
              "              year         AQI\n",
              "count    12.000000   12.000000\n",
              "mean   2009.500000  102.362604\n",
              "std       3.605551   29.373511\n",
              "min    2004.000000   60.412286\n",
              "25%    2006.750000   75.315339\n",
              "50%    2009.500000  106.232955\n",
              "75%    2012.250000  125.017857\n",
              "max    2015.000000  141.247549"
            ]
          },
          "metadata": {
            "tags": []
          },
          "execution_count": 17
        }
      ]
    },
    {
      "cell_type": "code",
      "metadata": {
        "id": "AXiL9PlDcRn-"
      },
      "source": [
        "df['AQI']=pd.to_numeric(df['AQI'],errors='coerce')\n",
        "df['year']=pd.to_numeric(df['year'],errors='coerce')"
      ],
      "execution_count": null,
      "outputs": []
    },
    {
      "cell_type": "code",
      "metadata": {
        "id": "f-rzjtJ-cnJL"
      },
      "source": [
        "cols =['year']\n",
        "y = df['AQI']\n",
        "x=df[cols]\n"
      ],
      "execution_count": null,
      "outputs": []
    },
    {
      "cell_type": "code",
      "metadata": {
        "id": "DvxeXzxBed7v",
        "colab": {
          "base_uri": "https://localhost:8080/"
        },
        "outputId": "b047c30b-7a3a-4f61-f3b8-5f0700cfe821"
      },
      "source": [
        "x = (x - x.mean()) / x.std()\n",
        "x = np.c_[np.ones(x.shape[0]), x]\n",
        "x"
      ],
      "execution_count": null,
      "outputs": [
        {
          "output_type": "execute_result",
          "data": {
            "text/plain": [
              "array([[ 1.        ,  1.52542554],\n",
              "       [ 1.        ,  1.24807544],\n",
              "       [ 1.        ,  0.97072534],\n",
              "       [ 1.        ,  0.69337525],\n",
              "       [ 1.        ,  0.41602515],\n",
              "       [ 1.        ,  0.13867505],\n",
              "       [ 1.        , -0.13867505],\n",
              "       [ 1.        , -0.41602515],\n",
              "       [ 1.        , -0.69337525],\n",
              "       [ 1.        , -0.97072534],\n",
              "       [ 1.        , -1.24807544],\n",
              "       [ 1.        , -1.52542554]])"
            ]
          },
          "metadata": {
            "tags": []
          },
          "execution_count": 20
        }
      ]
    },
    {
      "cell_type": "code",
      "metadata": {
        "colab": {
          "base_uri": "https://localhost:8080/"
        },
        "id": "6XUIDuiJeifg",
        "outputId": "9ff1af8b-2ad1-47c3-f259-b84973a5da70"
      },
      "source": [
        "# Applying GRADIENT DESCENT \n",
        " \n",
        "alpha = 0.01 #Step size\n",
        "iterations = 3000 #No. of iterations\n",
        "m = y.size #No. of data points\n",
        "np.random.seed(4) #Setting the seed\n",
        "theta = np.random.rand(2) #Picking random values to start with\n",
        " \n",
        "def gradient_descent(x, y, theta, iterations, alpha):\n",
        "    past_costs = []\n",
        "    past_thetas = [theta]\n",
        "    for i in range(iterations):\n",
        "        prediction = np.dot(x, theta)\n",
        "        error = prediction - y\n",
        "        cost = 1/(2*m) * np.dot(error.T, error)\n",
        "        past_costs.append(cost)\n",
        "        theta = theta - (alpha * (1/m) * np.dot(x.T, error))\n",
        "        past_thetas.append(theta)\n",
        "        \n",
        "    return past_thetas, past_costs\n",
        "past_thetas, past_costs = gradient_descent(x, y, theta, iterations, alpha)\n",
        "theta = past_thetas[-1]\n",
        " \n",
        "#Printing the results...\n",
        "print(\"Gradient Descent: {:.2f}, {:.2f}\".format(theta[0], theta[1]))"
      ],
      "execution_count": null,
      "outputs": [
        {
          "output_type": "stream",
          "text": [
            "Gradient Descent: 102.36, -18.66\n"
          ],
          "name": "stdout"
        }
      ]
    },
    {
      "cell_type": "code",
      "metadata": {
        "colab": {
          "base_uri": "https://localhost:8080/",
          "height": 295
        },
        "id": "ykmeyifMerbJ",
        "outputId": "95b126a5-75c1-43d1-b291-6c753846c156"
      },
      "source": [
        "plt.title('Cost Function J')\n",
        "plt.xlabel('No. of iterations')\n",
        "plt.ylabel('Cost')\n",
        "plt.plot(past_costs)\n",
        "plt.show()"
      ],
      "execution_count": null,
      "outputs": [
        {
          "output_type": "display_data",
          "data": {
            "image/png": "[encoded data removed]",
            "text/plain": [
              "<Figure size 432x288 with 1 Axes>"
            ]
          },
          "metadata": {
            "tags": [],
            "needs_background": "light"
          }
        }
      ]
    },
    {
      "cell_type": "code",
      "metadata": {
        "id": "ZlSgtWPXeuib"
      },
      "source": [
        "newB=[ 102.36, -18.66]\n",
        "def rmse(y,y_pred):\n",
        "    rmse=np.sqrt(sum(y-y_pred))\n",
        "    return rmse\n",
        "\n",
        "   \n",
        "y_pred=x.dot(newB)\n",
        "\n",
        "dt = pd.DataFrame({'Actual': y, 'Predicted': y_pred})  \n",
        "x=pd.concat([df, dt], axis=1)"
      ],
      "execution_count": null,
      "outputs": []
    },
    {
      "cell_type": "code",
      "metadata": {
        "colab": {
          "base_uri": "https://localhost:8080/",
          "height": 293
        },
        "id": "05_oJj5he0DH",
        "outputId": "27ef0607-5c4b-4888-a742-9136e30ea037"
      },
      "source": [
        "x_axis=x.year\n",
        "y_axis=x.Actual\n",
        "y1_axis=x.Predicted\n",
        "plt.plot(x_axis,y_axis)\n",
        "plt.plot(x_axis,y1_axis)\n",
        "plt.title(\"Actual vs Predicted\",fontsize=10)\n",
        "plt.legend([\"actual \",\"predicted\"])\n",
        "plt.xlabel(\"YEAR\",fontsize=10)\n",
        "plt.ylabel(\"AQI\",fontsize=10)\n",
        "plt.tick_params(labelsize=10)\n",
        "plt.show()"
      ],
      "execution_count": null,
      "outputs": [
        {
          "output_type": "display_data",
          "data": {
            "image/png": "[encoded data removed]",
            "text/plain": [
              "<Figure size 432x288 with 1 Axes>"
            ]
          },
          "metadata": {
            "tags": [],
            "needs_background": "light"
          }
        }
      ]
    },
    {
      "cell_type": "code",
      "metadata": {
        "colab": {
          "base_uri": "https://localhost:8080/",
          "height": 421
        },
        "id": "pwk0dcb9e3Mn",
        "outputId": "419fb0c1-b6c6-4fe6-c9f4-2af7b405e089"
      },
      "source": [
        "x"
      ],
      "execution_count": null,
      "outputs": [
        {
          "output_type": "execute_result",
          "data": {
            "text/html": [
              "<div>\n",
              "<style scoped>\n",
              "    .dataframe tbody tr th:only-of-type {\n",
              "        vertical-align: middle;\n",
              "    }\n",
              "\n",
              "    .dataframe tbody tr th {\n",
              "        vertical-align: top;\n",
              "    }\n",
              "\n",
              "    .dataframe thead th {\n",
              "        text-align: right;\n",
              "    }\n",
              "</style>\n",
              "<table border=\"1\" class=\"dataframe\">\n",
              "  <thead>\n",
              "    <tr style=\"text-align: right;\">\n",
              "      <th></th>\n",
              "      <th>year</th>\n",
              "      <th>AQI</th>\n",
              "      <th>Actual</th>\n",
              "      <th>Predicted</th>\n",
              "    </tr>\n",
              "  </thead>\n",
              "  <tbody>\n",
              "    <tr>\n",
              "      <th>11</th>\n",
              "      <td>2015</td>\n",
              "      <td>63.959596</td>\n",
              "      <td>63.959596</td>\n",
              "      <td>73.895559</td>\n",
              "    </tr>\n",
              "    <tr>\n",
              "      <th>10</th>\n",
              "      <td>2014</td>\n",
              "      <td>70.470657</td>\n",
              "      <td>70.470657</td>\n",
              "      <td>79.070912</td>\n",
              "    </tr>\n",
              "    <tr>\n",
              "      <th>9</th>\n",
              "      <td>2013</td>\n",
              "      <td>97.416667</td>\n",
              "      <td>97.416667</td>\n",
              "      <td>84.246265</td>\n",
              "    </tr>\n",
              "    <tr>\n",
              "      <th>8</th>\n",
              "      <td>2012</td>\n",
              "      <td>60.412286</td>\n",
              "      <td>60.412286</td>\n",
              "      <td>89.421618</td>\n",
              "    </tr>\n",
              "    <tr>\n",
              "      <th>7</th>\n",
              "      <td>2011</td>\n",
              "      <td>76.930233</td>\n",
              "      <td>76.930233</td>\n",
              "      <td>94.596971</td>\n",
              "    </tr>\n",
              "    <tr>\n",
              "      <th>6</th>\n",
              "      <td>2010</td>\n",
              "      <td>137.656463</td>\n",
              "      <td>137.656463</td>\n",
              "      <td>99.772324</td>\n",
              "    </tr>\n",
              "    <tr>\n",
              "      <th>5</th>\n",
              "      <td>2009</td>\n",
              "      <td>133.511905</td>\n",
              "      <td>133.511905</td>\n",
              "      <td>104.947676</td>\n",
              "    </tr>\n",
              "    <tr>\n",
              "      <th>4</th>\n",
              "      <td>2008</td>\n",
              "      <td>116.470238</td>\n",
              "      <td>116.470238</td>\n",
              "      <td>110.123029</td>\n",
              "    </tr>\n",
              "    <tr>\n",
              "      <th>3</th>\n",
              "      <td>2007</td>\n",
              "      <td>115.049242</td>\n",
              "      <td>115.049242</td>\n",
              "      <td>115.298382</td>\n",
              "    </tr>\n",
              "    <tr>\n",
              "      <th>2</th>\n",
              "      <td>2006</td>\n",
              "      <td>141.247549</td>\n",
              "      <td>141.247549</td>\n",
              "      <td>120.473735</td>\n",
              "    </tr>\n",
              "    <tr>\n",
              "      <th>1</th>\n",
              "      <td>2005</td>\n",
              "      <td>122.186508</td>\n",
              "      <td>122.186508</td>\n",
              "      <td>125.649088</td>\n",
              "    </tr>\n",
              "    <tr>\n",
              "      <th>0</th>\n",
              "      <td>2004</td>\n",
              "      <td>93.039907</td>\n",
              "      <td>93.039907</td>\n",
              "      <td>130.824441</td>\n",
              "    </tr>\n",
              "  </tbody>\n",
              "</table>\n",
              "</div>"
            ],
            "text/plain": [
              "    year         AQI      Actual   Predicted\n",
              "11  2015   63.959596   63.959596   73.895559\n",
              "10  2014   70.470657   70.470657   79.070912\n",
              "9   2013   97.416667   97.416667   84.246265\n",
              "8   2012   60.412286   60.412286   89.421618\n",
              "7   2011   76.930233   76.930233   94.596971\n",
              "6   2010  137.656463  137.656463   99.772324\n",
              "5   2009  133.511905  133.511905  104.947676\n",
              "4   2008  116.470238  116.470238  110.123029\n",
              "3   2007  115.049242  115.049242  115.298382\n",
              "2   2006  141.247549  141.247549  120.473735\n",
              "1   2005  122.186508  122.186508  125.649088\n",
              "0   2004   93.039907   93.039907  130.824441"
            ]
          },
          "metadata": {
            "tags": []
          },
          "execution_count": 25
        }
      ]
    },
    {
      "cell_type": "code",
      "metadata": {
        "id": "EtoaKaMQe-9W"
      },
      "source": [
        "import numpy as np"
      ],
      "execution_count": null,
      "outputs": []
    },
    {
      "cell_type": "code",
      "metadata": {
        "id": "xaka-NF2rt0m"
      },
      "source": [
        "a = np.random.rand(2)"
      ],
      "execution_count": null,
      "outputs": []
    },
    {
      "cell_type": "code",
      "metadata": {
        "colab": {
          "base_uri": "https://localhost:8080/"
        },
        "id": "3R23uZE9rxOO",
        "outputId": "35511444-25a4-443b-9413-09a49bfcd9fc"
      },
      "source": [
        "a\n"
      ],
      "execution_count": null,
      "outputs": [
        {
          "output_type": "execute_result",
          "data": {
            "text/plain": [
              "array([0.91962151, 0.88378558])"
            ]
          },
          "metadata": {
            "tags": []
          },
          "execution_count": 3
        }
      ]
    },
    {
      "cell_type": "code",
      "metadata": {
        "id": "T52b7KYDry_L"
      },
      "source": [
        ""
      ],
      "execution_count": null,
      "outputs": []
    }
  ]
}