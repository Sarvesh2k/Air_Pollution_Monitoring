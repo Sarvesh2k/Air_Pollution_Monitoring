{
  "nbformat": 4,
  "nbformat_minor": 0,
  "metadata": {
    "colab": {
      "name": "Delhi.ipynb",
      "provenance": []
    },
    "kernelspec": {
      "name": "python3",
      "display_name": "Python 3"
    },
    "language_info": {
      "name": "python"
    }
  },
  "cells": [
    {
      "cell_type": "code",
      "metadata": {
        "id": "60oJDwBJUMOa"
      },
      "source": [
        "import numpy as np # linear algebra\n",
        "import pandas as pd # data processing, CSV file I/O (e.g. pd.read_csv)\n",
        " \n",
        "import matplotlib.pyplot as plt\n",
        "import seaborn as sns\n",
        " \n",
        "%matplotlib inline\n",
        "plt.rcParams['figure.figsize'] = (10, 7)\n",
        " \n",
        "# Warnings\n",
        "import warnings\n",
        "warnings.filterwarnings('ignore')\n",
        " \n",
        "# Input data files are available in the \"../input/\" directory.\n",
        "# For example, running this (by clicking run or pressing Shift+Enter) will list the files in the input directory"
      ],
      "execution_count": null,
      "outputs": []
    },
    {
      "cell_type": "code",
      "metadata": {
        "colab": {
          "base_uri": "https://localhost:8080/",
          "height": 289
        },
        "id": "nA7-AxnmV_fg",
        "outputId": "0b5077e5-eee0-4391-9648-03ad2d988364"
      },
      "source": [
        "df=pd.read_csv('/content/drive/MyDrive/data.csv',encoding=\"ISO-8859-1\")\n",
        "df.fillna(0, inplace=True)\n",
        "data = df.loc[df['location'] == 'Delhi']\n",
        "data.tail()"
      ],
      "execution_count": null,
      "outputs": [
        {
          "output_type": "execute_result",
          "data": {
            "text/html": [
              "<div>\n",
              "<style scoped>\n",
              "    .dataframe tbody tr th:only-of-type {\n",
              "        vertical-align: middle;\n",
              "    }\n",
              "\n",
              "    .dataframe tbody tr th {\n",
              "        vertical-align: top;\n",
              "    }\n",
              "\n",
              "    .dataframe thead th {\n",
              "        text-align: right;\n",
              "    }\n",
              "</style>\n",
              "<table border=\"1\" class=\"dataframe\">\n",
              "  <thead>\n",
              "    <tr style=\"text-align: right;\">\n",
              "      <th></th>\n",
              "      <th>stn_code</th>\n",
              "      <th>sampling_date</th>\n",
              "      <th>state</th>\n",
              "      <th>location</th>\n",
              "      <th>agency</th>\n",
              "      <th>type</th>\n",
              "      <th>so2</th>\n",
              "      <th>no2</th>\n",
              "      <th>rspm</th>\n",
              "      <th>spm</th>\n",
              "      <th>location_monitoring_station</th>\n",
              "      <th>pm2_5</th>\n",
              "      <th>date</th>\n",
              "    </tr>\n",
              "  </thead>\n",
              "  <tbody>\n",
              "    <tr>\n",
              "      <th>74407</th>\n",
              "      <td>531</td>\n",
              "      <td>16-12-15</td>\n",
              "      <td>Delhi</td>\n",
              "      <td>Delhi</td>\n",
              "      <td>Central Pollution Control Board</td>\n",
              "      <td>Residential, Rural and other Areas</td>\n",
              "      <td>4.0</td>\n",
              "      <td>56.0</td>\n",
              "      <td>246.0</td>\n",
              "      <td>0.0</td>\n",
              "      <td>Pritampura, Delhi</td>\n",
              "      <td>0.0</td>\n",
              "      <td>2015-12-16</td>\n",
              "    </tr>\n",
              "    <tr>\n",
              "      <th>74408</th>\n",
              "      <td>531</td>\n",
              "      <td>21-12-15</td>\n",
              "      <td>Delhi</td>\n",
              "      <td>Delhi</td>\n",
              "      <td>Central Pollution Control Board</td>\n",
              "      <td>Residential, Rural and other Areas</td>\n",
              "      <td>4.0</td>\n",
              "      <td>54.0</td>\n",
              "      <td>269.0</td>\n",
              "      <td>0.0</td>\n",
              "      <td>Pritampura, Delhi</td>\n",
              "      <td>0.0</td>\n",
              "      <td>2015-12-21</td>\n",
              "    </tr>\n",
              "    <tr>\n",
              "      <th>74409</th>\n",
              "      <td>531</td>\n",
              "      <td>28-12-15</td>\n",
              "      <td>Delhi</td>\n",
              "      <td>Delhi</td>\n",
              "      <td>Central Pollution Control Board</td>\n",
              "      <td>Residential, Rural and other Areas</td>\n",
              "      <td>4.0</td>\n",
              "      <td>53.0</td>\n",
              "      <td>205.0</td>\n",
              "      <td>0.0</td>\n",
              "      <td>Pritampura, Delhi</td>\n",
              "      <td>0.0</td>\n",
              "      <td>2015-12-28</td>\n",
              "    </tr>\n",
              "    <tr>\n",
              "      <th>74410</th>\n",
              "      <td>531</td>\n",
              "      <td>29-12-15</td>\n",
              "      <td>Delhi</td>\n",
              "      <td>Delhi</td>\n",
              "      <td>Central Pollution Control Board</td>\n",
              "      <td>Residential, Rural and other Areas</td>\n",
              "      <td>5.0</td>\n",
              "      <td>43.0</td>\n",
              "      <td>142.0</td>\n",
              "      <td>0.0</td>\n",
              "      <td>Pritampura, Delhi</td>\n",
              "      <td>0.0</td>\n",
              "      <td>2015-12-29</td>\n",
              "    </tr>\n",
              "    <tr>\n",
              "      <th>74411</th>\n",
              "      <td>531</td>\n",
              "      <td>31-12-15</td>\n",
              "      <td>Delhi</td>\n",
              "      <td>Delhi</td>\n",
              "      <td>Central Pollution Control Board</td>\n",
              "      <td>Residential, Rural and other Areas</td>\n",
              "      <td>9.0</td>\n",
              "      <td>44.0</td>\n",
              "      <td>420.0</td>\n",
              "      <td>0.0</td>\n",
              "      <td>Pritampura, Delhi</td>\n",
              "      <td>0.0</td>\n",
              "      <td>2015-12-31</td>\n",
              "    </tr>\n",
              "  </tbody>\n",
              "</table>\n",
              "</div>"
            ],
            "text/plain": [
              "      stn_code sampling_date  ... pm2_5        date\n",
              "74407      531      16-12-15  ...   0.0  2015-12-16\n",
              "74408      531      21-12-15  ...   0.0  2015-12-21\n",
              "74409      531      28-12-15  ...   0.0  2015-12-28\n",
              "74410      531      29-12-15  ...   0.0  2015-12-29\n",
              "74411      531      31-12-15  ...   0.0  2015-12-31\n",
              "\n",
              "[5 rows x 13 columns]"
            ]
          },
          "metadata": {
            "tags": []
          },
          "execution_count": 3
        }
      ]
    },
    {
      "cell_type": "code",
      "metadata": {
        "colab": {
          "base_uri": "https://localhost:8080/"
        },
        "id": "4o6Y2EtXsJMa",
        "outputId": "db7cf4c8-1a8e-4410-9d39-a835be9f6645"
      },
      "source": [
        "from google.colab import drive\n",
        "drive.mount('/content/drive')"
      ],
      "execution_count": null,
      "outputs": [
        {
          "output_type": "stream",
          "text": [
            "Mounted at /content/drive\n"
          ],
          "name": "stdout"
        }
      ]
    },
    {
      "cell_type": "code",
      "metadata": {
        "id": "euXq6AUaWu1u"
      },
      "source": [
        "#Function to calculate so2 individual pollutant index(si)\n",
        "def calculate_si(so2):\n",
        "    si=0\n",
        "    if (so2<=40):\n",
        "     si= so2*(50/40)\n",
        "    if (so2>40 and so2<=80):\n",
        "     si= 50+(so2-40)*(50/40)\n",
        "    if (so2>80 and so2<=380):\n",
        "     si= 100+(so2-80)*(100/300)\n",
        "    if (so2>380 and so2<=800):\n",
        "     si= 200+(so2-380)*(100/800)\n",
        "    if (so2>800 and so2<=1600):\n",
        "     si= 300+(so2-800)*(100/800)\n",
        "    if (so2>1600):\n",
        "     si= 400+(so2-1600)*(100/800)\n",
        "    return si\n",
        "data['si']=data['so2'].apply(calculate_si)\n",
        "df= data[['so2','si']]"
      ],
      "execution_count": null,
      "outputs": []
    },
    {
      "cell_type": "code",
      "metadata": {
        "id": "r7jhAyZDXI3t"
      },
      "source": [
        "def calculate_ni(no2):\n",
        "    ni=0\n",
        "    if(no2<=40):\n",
        "     ni= no2*50/40\n",
        "    elif(no2>40 and no2<=80):\n",
        "     ni= 50+(no2-14)*(50/40)\n",
        "    elif(no2>80 and no2<=180):\n",
        "     ni= 100+(no2-80)*(100/100)\n",
        "    elif(no2>180 and no2<=280):\n",
        "     ni= 200+(no2-180)*(100/100)\n",
        "    elif(no2>280 and no2<=400):\n",
        "     ni= 300+(no2-280)*(100/120)\n",
        "    else:\n",
        "     ni= 400+(no2-400)*(100/120)\n",
        "    return ni\n",
        "data['ni']=data['no2'].apply(calculate_ni)\n",
        "df= data[['no2','ni']]"
      ],
      "execution_count": null,
      "outputs": []
    },
    {
      "cell_type": "code",
      "metadata": {
        "id": "SO6mS8kEXQAp"
      },
      "source": [
        "def calculate_(rspm):\n",
        "    rpi=0\n",
        "    if(rpi<=30):\n",
        "     rpi=rpi*50/30\n",
        "    elif(rpi>30 and rpi<=60):\n",
        "     rpi=50+(rpi-30)*50/30\n",
        "    elif(rpi>60 and rpi<=90):\n",
        "     rpi=100+(rpi-60)*100/30\n",
        "    elif(rpi>90 and rpi<=120):\n",
        "     rpi=200+(rpi-90)*100/30\n",
        "    elif(rpi>120 and rpi<=250):\n",
        "     rpi=300+(rpi-120)*(100/130)\n",
        "    else:\n",
        "     rpi=400+(rpi-250)*(100/130)\n",
        "    return rpi\n",
        "data['rpi']=data['rspm'].apply(calculate_si)\n",
        "df= data[['rspm','rpi']]\n"
      ],
      "execution_count": null,
      "outputs": []
    },
    {
      "cell_type": "code",
      "metadata": {
        "id": "LKlGv3hxXbcs"
      },
      "source": [
        "def calculate_spi(spm):\n",
        "    spi=0\n",
        "    if(spm<=50):\n",
        "     spi=spm\n",
        "    if(spm<50 and spm<=100):\n",
        "     spi=spm\n",
        "    elif(spm>100 and spm<=250):\n",
        "     spi= 100+(spm-100)*(100/150)\n",
        "    elif(spm>250 and spm<=350):\n",
        "     spi=200+(spm-250)\n",
        "    elif(spm>350 and spm<=450):\n",
        "     spi=300+(spm-350)*(100/80)\n",
        "    else:\n",
        "     spi=400+(spm-430)*(100/80)\n",
        "    return spi\n",
        "data['spi']=data['spm'].apply(calculate_spi)\n",
        "df= data[['spm','spi']]"
      ],
      "execution_count": null,
      "outputs": []
    },
    {
      "cell_type": "code",
      "metadata": {
        "colab": {
          "base_uri": "https://localhost:8080/",
          "height": 204
        },
        "id": "QLvqdAzwXh1I",
        "outputId": "04f3a9f3-e091-4982-9843-932dea521187"
      },
      "source": [
        "#function to calculate the air quality index (AQI) of every data value\n",
        "#its is calculated as per indian govt standards\n",
        "def calculate_aqi(si,ni,spi,rpi):\n",
        "    aqi=0\n",
        "    if(si>ni and si>spi and si>rpi):\n",
        "     aqi=si\n",
        "    if(spi>si and spi>ni and spi>rpi):\n",
        "     aqi=spi\n",
        "    if(ni>si and ni>spi and ni>rpi):\n",
        "     aqi=ni\n",
        "    if(rpi>si and rpi>ni and rpi>spi):\n",
        "     aqi=rpi\n",
        "    return aqi\n",
        "data['AQI']=data.apply(lambda x:calculate_aqi(x['si'],x['ni'],x['spi'],x['rpi']),axis=1)\n",
        "df= data[['sampling_date','state','si','ni','rpi','spi','AQI']]\n",
        "df.head()"
      ],
      "execution_count": null,
      "outputs": [
        {
          "output_type": "execute_result",
          "data": {
            "text/html": [
              "<div>\n",
              "<style scoped>\n",
              "    .dataframe tbody tr th:only-of-type {\n",
              "        vertical-align: middle;\n",
              "    }\n",
              "\n",
              "    .dataframe tbody tr th {\n",
              "        vertical-align: top;\n",
              "    }\n",
              "\n",
              "    .dataframe thead th {\n",
              "        text-align: right;\n",
              "    }\n",
              "</style>\n",
              "<table border=\"1\" class=\"dataframe\">\n",
              "  <thead>\n",
              "    <tr style=\"text-align: right;\">\n",
              "      <th></th>\n",
              "      <th>sampling_date</th>\n",
              "      <th>state</th>\n",
              "      <th>si</th>\n",
              "      <th>ni</th>\n",
              "      <th>rpi</th>\n",
              "      <th>spi</th>\n",
              "      <th>AQI</th>\n",
              "    </tr>\n",
              "  </thead>\n",
              "  <tbody>\n",
              "    <tr>\n",
              "      <th>65861</th>\n",
              "      <td>9/1/1987</td>\n",
              "      <td>Delhi</td>\n",
              "      <td>10.750</td>\n",
              "      <td>20.250</td>\n",
              "      <td>0.0</td>\n",
              "      <td>273.00</td>\n",
              "      <td>273.00</td>\n",
              "    </tr>\n",
              "    <tr>\n",
              "      <th>65862</th>\n",
              "      <td>9/2/1987</td>\n",
              "      <td>Delhi</td>\n",
              "      <td>8.125</td>\n",
              "      <td>11.625</td>\n",
              "      <td>0.0</td>\n",
              "      <td>472.50</td>\n",
              "      <td>472.50</td>\n",
              "    </tr>\n",
              "    <tr>\n",
              "      <th>65863</th>\n",
              "      <td>9/3/1987</td>\n",
              "      <td>Delhi</td>\n",
              "      <td>32.250</td>\n",
              "      <td>13.000</td>\n",
              "      <td>0.0</td>\n",
              "      <td>471.25</td>\n",
              "      <td>471.25</td>\n",
              "    </tr>\n",
              "    <tr>\n",
              "      <th>65864</th>\n",
              "      <td>9/3/1987</td>\n",
              "      <td>Delhi</td>\n",
              "      <td>0.625</td>\n",
              "      <td>3.500</td>\n",
              "      <td>0.0</td>\n",
              "      <td>522.50</td>\n",
              "      <td>522.50</td>\n",
              "    </tr>\n",
              "    <tr>\n",
              "      <th>65865</th>\n",
              "      <td>9/2/1987</td>\n",
              "      <td>Delhi</td>\n",
              "      <td>3.125</td>\n",
              "      <td>16.000</td>\n",
              "      <td>0.0</td>\n",
              "      <td>495.00</td>\n",
              "      <td>495.00</td>\n",
              "    </tr>\n",
              "  </tbody>\n",
              "</table>\n",
              "</div>"
            ],
            "text/plain": [
              "      sampling_date  state      si      ni  rpi     spi     AQI\n",
              "65861      9/1/1987  Delhi  10.750  20.250  0.0  273.00  273.00\n",
              "65862      9/2/1987  Delhi   8.125  11.625  0.0  472.50  472.50\n",
              "65863      9/3/1987  Delhi  32.250  13.000  0.0  471.25  471.25\n",
              "65864      9/3/1987  Delhi   0.625   3.500  0.0  522.50  522.50\n",
              "65865      9/2/1987  Delhi   3.125  16.000  0.0  495.00  495.00"
            ]
          },
          "metadata": {
            "tags": []
          },
          "execution_count": 8
        }
      ]
    },
    {
      "cell_type": "code",
      "metadata": {
        "colab": {
          "base_uri": "https://localhost:8080/",
          "height": 623
        },
        "id": "o5-qL-pJXk0b",
        "outputId": "c9c48b03-7ba8-4c80-9595-f33dde4bb07d"
      },
      "source": [
        "data['date'] = pd.to_datetime(data['date'],format='%Y-%m-%d') # date parse\n",
        "data['year'] = data['date'].dt.year # year\n",
        "data['year'] = data['year'].fillna(0.0).astype(int)\n",
        "data = data[(data['year']>0)]\n",
        "\n",
        "df = data[['AQI','year','state']].groupby([\"year\"]).median().reset_index().sort_values(by='year',ascending=False)\n",
        "f,ax=plt.subplots(figsize=(15,10))\n",
        "sns.pointplot(x='year', y='AQI', data=df)"
      ],
      "execution_count": null,
      "outputs": [
        {
          "output_type": "execute_result",
          "data": {
            "text/plain": [
              "<matplotlib.axes._subplots.AxesSubplot at 0x7f9284bf0610>"
            ]
          },
          "metadata": {
            "tags": []
          },
          "execution_count": 9
        },
        {
          "output_type": "display_data",
          "data": {
            "image/png": "[encoded data removed]",
            "text/plain": [
              "<Figure size 1080x720 with 1 Axes>"
            ]
          },
          "metadata": {
            "tags": [],
            "needs_background": "light"
          }
        }
      ]
    },
    {
      "cell_type": "code",
      "metadata": {
        "colab": {
          "base_uri": "https://localhost:8080/",
          "height": 669
        },
        "id": "BPNiCMTdX10e",
        "outputId": "34c5836a-62b5-4c4f-9444-63de673f4485"
      },
      "source": [
        "import warnings\n",
        "import itertools\n",
        "import dateutil\n",
        "import statsmodels.api as sm\n",
        "import matplotlib.pyplot as plt\n",
        "import matplotlib.dates as mdates\n",
        "import seaborn as sns\n",
        "%matplotlib inline\n",
        "df=data[['AQI','date']]\n",
        "df[\"date\"] = pd.to_datetime(df['date'])\n",
        "df.tail(20)"
      ],
      "execution_count": null,
      "outputs": [
        {
          "output_type": "execute_result",
          "data": {
            "text/html": [
              "<div>\n",
              "<style scoped>\n",
              "    .dataframe tbody tr th:only-of-type {\n",
              "        vertical-align: middle;\n",
              "    }\n",
              "\n",
              "    .dataframe tbody tr th {\n",
              "        vertical-align: top;\n",
              "    }\n",
              "\n",
              "    .dataframe thead th {\n",
              "        text-align: right;\n",
              "    }\n",
              "</style>\n",
              "<table border=\"1\" class=\"dataframe\">\n",
              "  <thead>\n",
              "    <tr style=\"text-align: right;\">\n",
              "      <th></th>\n",
              "      <th>AQI</th>\n",
              "      <th>date</th>\n",
              "    </tr>\n",
              "  </thead>\n",
              "  <tbody>\n",
              "    <tr>\n",
              "      <th>74392</th>\n",
              "      <td>141.333333</td>\n",
              "      <td>2015-10-07</td>\n",
              "    </tr>\n",
              "    <tr>\n",
              "      <th>74393</th>\n",
              "      <td>143.333333</td>\n",
              "      <td>2015-10-12</td>\n",
              "    </tr>\n",
              "    <tr>\n",
              "      <th>74394</th>\n",
              "      <td>151.333333</td>\n",
              "      <td>2015-10-15</td>\n",
              "    </tr>\n",
              "    <tr>\n",
              "      <th>74395</th>\n",
              "      <td>205.875000</td>\n",
              "      <td>2015-10-20</td>\n",
              "    </tr>\n",
              "    <tr>\n",
              "      <th>74396</th>\n",
              "      <td>203.875000</td>\n",
              "      <td>2015-10-26</td>\n",
              "    </tr>\n",
              "    <tr>\n",
              "      <th>74397</th>\n",
              "      <td>208.750000</td>\n",
              "      <td>2015-10-29</td>\n",
              "    </tr>\n",
              "    <tr>\n",
              "      <th>74398</th>\n",
              "      <td>127.000000</td>\n",
              "      <td>2015-11-05</td>\n",
              "    </tr>\n",
              "    <tr>\n",
              "      <th>74399</th>\n",
              "      <td>184.666667</td>\n",
              "      <td>2015-11-09</td>\n",
              "    </tr>\n",
              "    <tr>\n",
              "      <th>74400</th>\n",
              "      <td>215.500000</td>\n",
              "      <td>2015-11-13</td>\n",
              "    </tr>\n",
              "    <tr>\n",
              "      <th>74401</th>\n",
              "      <td>193.333333</td>\n",
              "      <td>2015-11-18</td>\n",
              "    </tr>\n",
              "    <tr>\n",
              "      <th>74402</th>\n",
              "      <td>198.000000</td>\n",
              "      <td>2015-11-23</td>\n",
              "    </tr>\n",
              "    <tr>\n",
              "      <th>74403</th>\n",
              "      <td>205.750000</td>\n",
              "      <td>2015-11-27</td>\n",
              "    </tr>\n",
              "    <tr>\n",
              "      <th>74404</th>\n",
              "      <td>226.250000</td>\n",
              "      <td>2015-12-03</td>\n",
              "    </tr>\n",
              "    <tr>\n",
              "      <th>74405</th>\n",
              "      <td>194.000000</td>\n",
              "      <td>2015-12-08</td>\n",
              "    </tr>\n",
              "    <tr>\n",
              "      <th>74406</th>\n",
              "      <td>119.333333</td>\n",
              "      <td>2015-12-11</td>\n",
              "    </tr>\n",
              "    <tr>\n",
              "      <th>74407</th>\n",
              "      <td>155.333333</td>\n",
              "      <td>2015-12-16</td>\n",
              "    </tr>\n",
              "    <tr>\n",
              "      <th>74408</th>\n",
              "      <td>163.000000</td>\n",
              "      <td>2015-12-21</td>\n",
              "    </tr>\n",
              "    <tr>\n",
              "      <th>74409</th>\n",
              "      <td>141.666667</td>\n",
              "      <td>2015-12-28</td>\n",
              "    </tr>\n",
              "    <tr>\n",
              "      <th>74410</th>\n",
              "      <td>120.666667</td>\n",
              "      <td>2015-12-29</td>\n",
              "    </tr>\n",
              "    <tr>\n",
              "      <th>74411</th>\n",
              "      <td>205.000000</td>\n",
              "      <td>2015-12-31</td>\n",
              "    </tr>\n",
              "  </tbody>\n",
              "</table>\n",
              "</div>"
            ],
            "text/plain": [
              "              AQI       date\n",
              "74392  141.333333 2015-10-07\n",
              "74393  143.333333 2015-10-12\n",
              "74394  151.333333 2015-10-15\n",
              "74395  205.875000 2015-10-20\n",
              "74396  203.875000 2015-10-26\n",
              "74397  208.750000 2015-10-29\n",
              "74398  127.000000 2015-11-05\n",
              "74399  184.666667 2015-11-09\n",
              "74400  215.500000 2015-11-13\n",
              "74401  193.333333 2015-11-18\n",
              "74402  198.000000 2015-11-23\n",
              "74403  205.750000 2015-11-27\n",
              "74404  226.250000 2015-12-03\n",
              "74405  194.000000 2015-12-08\n",
              "74406  119.333333 2015-12-11\n",
              "74407  155.333333 2015-12-16\n",
              "74408  163.000000 2015-12-21\n",
              "74409  141.666667 2015-12-28\n",
              "74410  120.666667 2015-12-29\n",
              "74411  205.000000 2015-12-31"
            ]
          },
          "metadata": {
            "tags": []
          },
          "execution_count": 10
        }
      ]
    },
    {
      "cell_type": "code",
      "metadata": {
        "colab": {
          "base_uri": "https://localhost:8080/"
        },
        "id": "lUz82QZyY_6p",
        "outputId": "bd915e44-1d3f-44b8-f52c-4cfccf8aba1f"
      },
      "source": [
        "df=df.set_index('date').resample('M')[\"AQI\"].mean()\n",
        "df.head()"
      ],
      "execution_count": null,
      "outputs": [
        {
          "output_type": "execute_result",
          "data": {
            "text/plain": [
              "date\n",
              "1987-01-31    576.312500\n",
              "1987-02-28    508.125000\n",
              "1987-03-31    581.111111\n",
              "1987-04-30    287.000000\n",
              "1987-05-31           NaN\n",
              "Freq: M, Name: AQI, dtype: float64"
            ]
          },
          "metadata": {
            "tags": []
          },
          "execution_count": 11
        }
      ]
    },
    {
      "cell_type": "code",
      "metadata": {
        "colab": {
          "base_uri": "https://localhost:8080/",
          "height": 204
        },
        "id": "awi1xdh2ZffJ",
        "outputId": "5f578c8f-35ab-4058-e015-57b242f6de6e"
      },
      "source": [
        "#preprocessing the data values\n",
        "data=df.reset_index(level=0, inplace=False)\n",
        "data = data[np.isfinite(data['AQI'])]\n",
        "data=data[data.date != '1970-01-31']\n",
        "data = data.reset_index(drop=True)\n",
        "data.head()\n"
      ],
      "execution_count": null,
      "outputs": [
        {
          "output_type": "execute_result",
          "data": {
            "text/html": [
              "<div>\n",
              "<style scoped>\n",
              "    .dataframe tbody tr th:only-of-type {\n",
              "        vertical-align: middle;\n",
              "    }\n",
              "\n",
              "    .dataframe tbody tr th {\n",
              "        vertical-align: top;\n",
              "    }\n",
              "\n",
              "    .dataframe thead th {\n",
              "        text-align: right;\n",
              "    }\n",
              "</style>\n",
              "<table border=\"1\" class=\"dataframe\">\n",
              "  <thead>\n",
              "    <tr style=\"text-align: right;\">\n",
              "      <th></th>\n",
              "      <th>date</th>\n",
              "      <th>AQI</th>\n",
              "    </tr>\n",
              "  </thead>\n",
              "  <tbody>\n",
              "    <tr>\n",
              "      <th>0</th>\n",
              "      <td>1987-01-31</td>\n",
              "      <td>576.312500</td>\n",
              "    </tr>\n",
              "    <tr>\n",
              "      <th>1</th>\n",
              "      <td>1987-02-28</td>\n",
              "      <td>508.125000</td>\n",
              "    </tr>\n",
              "    <tr>\n",
              "      <th>2</th>\n",
              "      <td>1987-03-31</td>\n",
              "      <td>581.111111</td>\n",
              "    </tr>\n",
              "    <tr>\n",
              "      <th>3</th>\n",
              "      <td>1987-04-30</td>\n",
              "      <td>287.000000</td>\n",
              "    </tr>\n",
              "    <tr>\n",
              "      <th>4</th>\n",
              "      <td>1988-01-31</td>\n",
              "      <td>118.310185</td>\n",
              "    </tr>\n",
              "  </tbody>\n",
              "</table>\n",
              "</div>"
            ],
            "text/plain": [
              "        date         AQI\n",
              "0 1987-01-31  576.312500\n",
              "1 1987-02-28  508.125000\n",
              "2 1987-03-31  581.111111\n",
              "3 1987-04-30  287.000000\n",
              "4 1988-01-31  118.310185"
            ]
          },
          "metadata": {
            "tags": []
          },
          "execution_count": 12
        }
      ]
    },
    {
      "cell_type": "code",
      "metadata": {
        "colab": {
          "base_uri": "https://localhost:8080/",
          "height": 450
        },
        "id": "RRv6VVV5d4Vx",
        "outputId": "51ed10d5-1756-4f92-8426-70aa2576f300"
      },
      "source": [
        "df=data.set_index('date')\n",
        "df.sort_values(by='date',ascending=False)"
      ],
      "execution_count": null,
      "outputs": [
        {
          "output_type": "execute_result",
          "data": {
            "text/html": [
              "<div>\n",
              "<style scoped>\n",
              "    .dataframe tbody tr th:only-of-type {\n",
              "        vertical-align: middle;\n",
              "    }\n",
              "\n",
              "    .dataframe tbody tr th {\n",
              "        vertical-align: top;\n",
              "    }\n",
              "\n",
              "    .dataframe thead th {\n",
              "        text-align: right;\n",
              "    }\n",
              "</style>\n",
              "<table border=\"1\" class=\"dataframe\">\n",
              "  <thead>\n",
              "    <tr style=\"text-align: right;\">\n",
              "      <th></th>\n",
              "      <th>AQI</th>\n",
              "    </tr>\n",
              "    <tr>\n",
              "      <th>date</th>\n",
              "      <th></th>\n",
              "    </tr>\n",
              "  </thead>\n",
              "  <tbody>\n",
              "    <tr>\n",
              "      <th>2015-12-31</th>\n",
              "      <td>178.137626</td>\n",
              "    </tr>\n",
              "    <tr>\n",
              "      <th>2015-11-30</th>\n",
              "      <td>176.847222</td>\n",
              "    </tr>\n",
              "    <tr>\n",
              "      <th>2015-10-31</th>\n",
              "      <td>157.169399</td>\n",
              "    </tr>\n",
              "    <tr>\n",
              "      <th>2015-09-30</th>\n",
              "      <td>128.894531</td>\n",
              "    </tr>\n",
              "    <tr>\n",
              "      <th>2015-08-31</th>\n",
              "      <td>115.005208</td>\n",
              "    </tr>\n",
              "    <tr>\n",
              "      <th>...</th>\n",
              "      <td>...</td>\n",
              "    </tr>\n",
              "    <tr>\n",
              "      <th>1988-01-31</th>\n",
              "      <td>118.310185</td>\n",
              "    </tr>\n",
              "    <tr>\n",
              "      <th>1987-04-30</th>\n",
              "      <td>287.000000</td>\n",
              "    </tr>\n",
              "    <tr>\n",
              "      <th>1987-03-31</th>\n",
              "      <td>581.111111</td>\n",
              "    </tr>\n",
              "    <tr>\n",
              "      <th>1987-02-28</th>\n",
              "      <td>508.125000</td>\n",
              "    </tr>\n",
              "    <tr>\n",
              "      <th>1987-01-31</th>\n",
              "      <td>576.312500</td>\n",
              "    </tr>\n",
              "  </tbody>\n",
              "</table>\n",
              "<p>302 rows × 1 columns</p>\n",
              "</div>"
            ],
            "text/plain": [
              "                   AQI\n",
              "date                  \n",
              "2015-12-31  178.137626\n",
              "2015-11-30  176.847222\n",
              "2015-10-31  157.169399\n",
              "2015-09-30  128.894531\n",
              "2015-08-31  115.005208\n",
              "...                ...\n",
              "1988-01-31  118.310185\n",
              "1987-04-30  287.000000\n",
              "1987-03-31  581.111111\n",
              "1987-02-28  508.125000\n",
              "1987-01-31  576.312500\n",
              "\n",
              "[302 rows x 1 columns]"
            ]
          },
          "metadata": {
            "tags": []
          },
          "execution_count": 13
        }
      ]
    },
    {
      "cell_type": "code",
      "metadata": {
        "id": "eIV9Gsj8aB2D"
      },
      "source": [
        "df=data[['AQI','date']]\n",
        "\n",
        "df['date']=pd.to_datetime(df['date'])\n",
        "date=df.groupby(pd.Grouper(key='date',freq='1MS'))[\"AQI\"].mean()"
      ],
      "execution_count": null,
      "outputs": []
    },
    {
      "cell_type": "code",
      "metadata": {
        "id": "5tafZkT9bCId"
      },
      "source": [
        "data['month'] = data['date'].dt.month\n",
        "data['year'] = data['date'].dt.year\n",
        "data=data[['AQI','date','month','year']]\n"
      ],
      "execution_count": null,
      "outputs": []
    },
    {
      "cell_type": "code",
      "metadata": {
        "id": "AcZmiQNsdyRr"
      },
      "source": [
        "data=data[data['month']==1]"
      ],
      "execution_count": null,
      "outputs": []
    },
    {
      "cell_type": "code",
      "metadata": {
        "colab": {
          "base_uri": "https://localhost:8080/",
          "height": 297
        },
        "id": "I_ulu3tXeRij",
        "outputId": "2dbfcbbc-2c0f-4efe-9d84-49a1a82d9382"
      },
      "source": [
        "df = data[['AQI','year']].groupby([\"year\"]).mean().reset_index().sort_values(by='year',ascending=False)\n",
        "df=df.dropna()\n",
        "dd=df\n",
        "df.describe()"
      ],
      "execution_count": null,
      "outputs": [
        {
          "output_type": "execute_result",
          "data": {
            "text/html": [
              "<div>\n",
              "<style scoped>\n",
              "    .dataframe tbody tr th:only-of-type {\n",
              "        vertical-align: middle;\n",
              "    }\n",
              "\n",
              "    .dataframe tbody tr th {\n",
              "        vertical-align: top;\n",
              "    }\n",
              "\n",
              "    .dataframe thead th {\n",
              "        text-align: right;\n",
              "    }\n",
              "</style>\n",
              "<table border=\"1\" class=\"dataframe\">\n",
              "  <thead>\n",
              "    <tr style=\"text-align: right;\">\n",
              "      <th></th>\n",
              "      <th>year</th>\n",
              "      <th>AQI</th>\n",
              "    </tr>\n",
              "  </thead>\n",
              "  <tbody>\n",
              "    <tr>\n",
              "      <th>count</th>\n",
              "      <td>27.000000</td>\n",
              "      <td>27.000000</td>\n",
              "    </tr>\n",
              "    <tr>\n",
              "      <th>mean</th>\n",
              "      <td>2001.111111</td>\n",
              "      <td>302.514324</td>\n",
              "    </tr>\n",
              "    <tr>\n",
              "      <th>std</th>\n",
              "      <td>8.331282</td>\n",
              "      <td>126.807273</td>\n",
              "    </tr>\n",
              "    <tr>\n",
              "      <th>min</th>\n",
              "      <td>1987.000000</td>\n",
              "      <td>33.291667</td>\n",
              "    </tr>\n",
              "    <tr>\n",
              "      <th>25%</th>\n",
              "      <td>1994.500000</td>\n",
              "      <td>217.637722</td>\n",
              "    </tr>\n",
              "    <tr>\n",
              "      <th>50%</th>\n",
              "      <td>2001.000000</td>\n",
              "      <td>299.564815</td>\n",
              "    </tr>\n",
              "    <tr>\n",
              "      <th>75%</th>\n",
              "      <td>2007.500000</td>\n",
              "      <td>389.408905</td>\n",
              "    </tr>\n",
              "    <tr>\n",
              "      <th>max</th>\n",
              "      <td>2015.000000</td>\n",
              "      <td>576.312500</td>\n",
              "    </tr>\n",
              "  </tbody>\n",
              "</table>\n",
              "</div>"
            ],
            "text/plain": [
              "              year         AQI\n",
              "count    27.000000   27.000000\n",
              "mean   2001.111111  302.514324\n",
              "std       8.331282  126.807273\n",
              "min    1987.000000   33.291667\n",
              "25%    1994.500000  217.637722\n",
              "50%    2001.000000  299.564815\n",
              "75%    2007.500000  389.408905\n",
              "max    2015.000000  576.312500"
            ]
          },
          "metadata": {
            "tags": []
          },
          "execution_count": 17
        }
      ]
    },
    {
      "cell_type": "code",
      "metadata": {
        "id": "AXiL9PlDcRn-"
      },
      "source": [
        "df['AQI']=pd.to_numeric(df['AQI'],errors='coerce')\n",
        "df['year']=pd.to_numeric(df['year'],errors='coerce')"
      ],
      "execution_count": null,
      "outputs": []
    },
    {
      "cell_type": "code",
      "metadata": {
        "id": "f-rzjtJ-cnJL"
      },
      "source": [
        "cols =['year']\n",
        "y = df['AQI']\n",
        "x=df[cols]\n"
      ],
      "execution_count": null,
      "outputs": []
    },
    {
      "cell_type": "code",
      "metadata": {
        "id": "DvxeXzxBed7v",
        "colab": {
          "base_uri": "https://localhost:8080/"
        },
        "outputId": "f39d96e6-bd80-4bf2-a512-7ea9c6bc5032"
      },
      "source": [
        "x = (x - x.mean()) / x.std()\n",
        "x = np.c_[np.ones(x.shape[0]), x]\n",
        "x"
      ],
      "execution_count": null,
      "outputs": [
        {
          "output_type": "execute_result",
          "data": {
            "text/plain": [
              "array([[ 1.        ,  1.66707707],\n",
              "       [ 1.        ,  1.54704753],\n",
              "       [ 1.        ,  1.42701798],\n",
              "       [ 1.        ,  1.30698843],\n",
              "       [ 1.        ,  1.18695888],\n",
              "       [ 1.        ,  0.94689978],\n",
              "       [ 1.        ,  0.82687023],\n",
              "       [ 1.        ,  0.70684068],\n",
              "       [ 1.        ,  0.58681113],\n",
              "       [ 1.        ,  0.46678158],\n",
              "       [ 1.        ,  0.34675203],\n",
              "       [ 1.        ,  0.22672248],\n",
              "       [ 1.        ,  0.10669293],\n",
              "       [ 1.        , -0.01333662],\n",
              "       [ 1.        , -0.13336617],\n",
              "       [ 1.        , -0.25339572],\n",
              "       [ 1.        , -0.37342526],\n",
              "       [ 1.        , -0.49345481],\n",
              "       [ 1.        , -0.61348436],\n",
              "       [ 1.        , -0.73351391],\n",
              "       [ 1.        , -0.85354346],\n",
              "       [ 1.        , -0.97357301],\n",
              "       [ 1.        , -1.09360256],\n",
              "       [ 1.        , -1.21363211],\n",
              "       [ 1.        , -1.33366166],\n",
              "       [ 1.        , -1.57372076],\n",
              "       [ 1.        , -1.69375031]])"
            ]
          },
          "metadata": {
            "tags": []
          },
          "execution_count": 20
        }
      ]
    },
    {
      "cell_type": "code",
      "metadata": {
        "colab": {
          "base_uri": "https://localhost:8080/"
        },
        "id": "6XUIDuiJeifg",
        "outputId": "fc677a2c-34ec-4076-87f3-0b3abf8513dc"
      },
      "source": [
        "# Applying GRADIENT DESCENT \n",
        " \n",
        "alpha = 0.01 #Step size\n",
        "iterations = 3000 #No. of iterations\n",
        "m = y.size #No. of data points\n",
        "np.random.seed(4) #Setting the seed\n",
        "theta = np.random.rand(2) #Picking random values to start with\n",
        " \n",
        "def gradient_descent(x, y, theta, iterations, alpha):\n",
        "    past_costs = []\n",
        "    past_thetas = [theta]\n",
        "    for i in range(iterations):\n",
        "        prediction = np.dot(x, theta)\n",
        "        error = prediction - y\n",
        "        cost = 1/(2*m) * np.dot(error.T, error)\n",
        "        past_costs.append(cost)\n",
        "        theta = theta - (alpha * (1/m) * np.dot(x.T, error))\n",
        "        past_thetas.append(theta)\n",
        "        \n",
        "    return past_thetas, past_costs\n",
        "past_thetas, past_costs = gradient_descent(x, y, theta, iterations, alpha)\n",
        "theta = past_thetas[-1]\n",
        " \n",
        "#Printing the results...\n",
        "print(\"Gradient Descent: {:.2f}, {:.2f}\".format(theta[0], theta[1]))"
      ],
      "execution_count": null,
      "outputs": [
        {
          "output_type": "stream",
          "text": [
            "Gradient Descent: 302.51, -35.84\n"
          ],
          "name": "stdout"
        }
      ]
    },
    {
      "cell_type": "code",
      "metadata": {
        "colab": {
          "base_uri": "https://localhost:8080/",
          "height": 295
        },
        "id": "ykmeyifMerbJ",
        "outputId": "a2780bb0-3e16-4626-e8b8-e9e3871a99a2"
      },
      "source": [
        "plt.title('Cost Function J')\n",
        "plt.xlabel('No. of iterations')\n",
        "plt.ylabel('Cost')\n",
        "plt.plot(past_costs)\n",
        "plt.show()"
      ],
      "execution_count": null,
      "outputs": [
        {
          "output_type": "display_data",
          "data": {
            "image/png": "[encoded data removed]",
            "text/plain": [
              "<Figure size 432x288 with 1 Axes>"
            ]
          },
          "metadata": {
            "tags": [],
            "needs_background": "light"
          }
        }
      ]
    },
    {
      "cell_type": "code",
      "metadata": {
        "id": "ZlSgtWPXeuib"
      },
      "source": [
        "newB=[ 302.51, -35.84]\n",
        "def rmse(y,y_pred):\n",
        "    rmse=np.sqrt(sum(y-y_pred))\n",
        "    return rmse\n",
        "\n",
        "   \n",
        "y_pred=x.dot(newB)\n",
        "\n",
        "dt = pd.DataFrame({'Actual': y, 'Predicted': y_pred})  \n",
        "x=pd.concat([df, dt], axis=1)"
      ],
      "execution_count": null,
      "outputs": []
    },
    {
      "cell_type": "code",
      "metadata": {
        "colab": {
          "base_uri": "https://localhost:8080/",
          "height": 293
        },
        "id": "05_oJj5he0DH",
        "outputId": "fb8fbadb-ffac-49dd-bbeb-5037080d9d7c"
      },
      "source": [
        "x_axis=x.year\n",
        "y_axis=x.Actual\n",
        "y1_axis=x.Predicted\n",
        "plt.plot(x_axis,y_axis)\n",
        "plt.plot(x_axis,y1_axis)\n",
        "plt.title(\"Actual vs Predicted\",fontsize=10)\n",
        "plt.legend([\"actual \",\"predicted\"])\n",
        "plt.xlabel(\"YEAR\",fontsize=10)\n",
        "plt.ylabel(\"AQI\",fontsize=10)\n",
        "plt.tick_params(labelsize=10)\n",
        "plt.show()"
      ],
      "execution_count": null,
      "outputs": [
        {
          "output_type": "display_data",
          "data": {
            "image/png": "[encoded data removed]",
            "text/plain": [
              "<Figure size 432x288 with 1 Axes>"
            ]
          },
          "metadata": {
            "tags": [],
            "needs_background": "light"
          }
        }
      ]
    },
    {
      "cell_type": "code",
      "metadata": {
        "colab": {
          "base_uri": "https://localhost:8080/",
          "height": 421
        },
        "id": "pwk0dcb9e3Mn",
        "outputId": "419fb0c1-b6c6-4fe6-c9f4-2af7b405e089"
      },
      "source": [
        "x"
      ],
      "execution_count": null,
      "outputs": [
        {
          "output_type": "execute_result",
          "data": {
            "text/html": [
              "<div>\n",
              "<style scoped>\n",
              "    .dataframe tbody tr th:only-of-type {\n",
              "        vertical-align: middle;\n",
              "    }\n",
              "\n",
              "    .dataframe tbody tr th {\n",
              "        vertical-align: top;\n",
              "    }\n",
              "\n",
              "    .dataframe thead th {\n",
              "        text-align: right;\n",
              "    }\n",
              "</style>\n",
              "<table border=\"1\" class=\"dataframe\">\n",
              "  <thead>\n",
              "    <tr style=\"text-align: right;\">\n",
              "      <th></th>\n",
              "      <th>year</th>\n",
              "      <th>AQI</th>\n",
              "      <th>Actual</th>\n",
              "      <th>Predicted</th>\n",
              "    </tr>\n",
              "  </thead>\n",
              "  <tbody>\n",
              "    <tr>\n",
              "      <th>11</th>\n",
              "      <td>2015</td>\n",
              "      <td>63.959596</td>\n",
              "      <td>63.959596</td>\n",
              "      <td>73.895559</td>\n",
              "    </tr>\n",
              "    <tr>\n",
              "      <th>10</th>\n",
              "      <td>2014</td>\n",
              "      <td>70.470657</td>\n",
              "      <td>70.470657</td>\n",
              "      <td>79.070912</td>\n",
              "    </tr>\n",
              "    <tr>\n",
              "      <th>9</th>\n",
              "      <td>2013</td>\n",
              "      <td>97.416667</td>\n",
              "      <td>97.416667</td>\n",
              "      <td>84.246265</td>\n",
              "    </tr>\n",
              "    <tr>\n",
              "      <th>8</th>\n",
              "      <td>2012</td>\n",
              "      <td>60.412286</td>\n",
              "      <td>60.412286</td>\n",
              "      <td>89.421618</td>\n",
              "    </tr>\n",
              "    <tr>\n",
              "      <th>7</th>\n",
              "      <td>2011</td>\n",
              "      <td>76.930233</td>\n",
              "      <td>76.930233</td>\n",
              "      <td>94.596971</td>\n",
              "    </tr>\n",
              "    <tr>\n",
              "      <th>6</th>\n",
              "      <td>2010</td>\n",
              "      <td>137.656463</td>\n",
              "      <td>137.656463</td>\n",
              "      <td>99.772324</td>\n",
              "    </tr>\n",
              "    <tr>\n",
              "      <th>5</th>\n",
              "      <td>2009</td>\n",
              "      <td>133.511905</td>\n",
              "      <td>133.511905</td>\n",
              "      <td>104.947676</td>\n",
              "    </tr>\n",
              "    <tr>\n",
              "      <th>4</th>\n",
              "      <td>2008</td>\n",
              "      <td>116.470238</td>\n",
              "      <td>116.470238</td>\n",
              "      <td>110.123029</td>\n",
              "    </tr>\n",
              "    <tr>\n",
              "      <th>3</th>\n",
              "      <td>2007</td>\n",
              "      <td>115.049242</td>\n",
              "      <td>115.049242</td>\n",
              "      <td>115.298382</td>\n",
              "    </tr>\n",
              "    <tr>\n",
              "      <th>2</th>\n",
              "      <td>2006</td>\n",
              "      <td>141.247549</td>\n",
              "      <td>141.247549</td>\n",
              "      <td>120.473735</td>\n",
              "    </tr>\n",
              "    <tr>\n",
              "      <th>1</th>\n",
              "      <td>2005</td>\n",
              "      <td>122.186508</td>\n",
              "      <td>122.186508</td>\n",
              "      <td>125.649088</td>\n",
              "    </tr>\n",
              "    <tr>\n",
              "      <th>0</th>\n",
              "      <td>2004</td>\n",
              "      <td>93.039907</td>\n",
              "      <td>93.039907</td>\n",
              "      <td>130.824441</td>\n",
              "    </tr>\n",
              "  </tbody>\n",
              "</table>\n",
              "</div>"
            ],
            "text/plain": [
              "    year         AQI      Actual   Predicted\n",
              "11  2015   63.959596   63.959596   73.895559\n",
              "10  2014   70.470657   70.470657   79.070912\n",
              "9   2013   97.416667   97.416667   84.246265\n",
              "8   2012   60.412286   60.412286   89.421618\n",
              "7   2011   76.930233   76.930233   94.596971\n",
              "6   2010  137.656463  137.656463   99.772324\n",
              "5   2009  133.511905  133.511905  104.947676\n",
              "4   2008  116.470238  116.470238  110.123029\n",
              "3   2007  115.049242  115.049242  115.298382\n",
              "2   2006  141.247549  141.247549  120.473735\n",
              "1   2005  122.186508  122.186508  125.649088\n",
              "0   2004   93.039907   93.039907  130.824441"
            ]
          },
          "metadata": {
            "tags": []
          },
          "execution_count": 25
        }
      ]
    },
    {
      "cell_type": "code",
      "metadata": {
        "id": "EtoaKaMQe-9W"
      },
      "source": [
        "import numpy as np"
      ],
      "execution_count": null,
      "outputs": []
    },
    {
      "cell_type": "code",
      "metadata": {
        "id": "xaka-NF2rt0m"
      },
      "source": [
        "a = np.random.rand(2)"
      ],
      "execution_count": null,
      "outputs": []
    },
    {
      "cell_type": "code",
      "metadata": {
        "colab": {
          "base_uri": "https://localhost:8080/"
        },
        "id": "3R23uZE9rxOO",
        "outputId": "35511444-25a4-443b-9413-09a49bfcd9fc"
      },
      "source": [
        "a\n"
      ],
      "execution_count": null,
      "outputs": [
        {
          "output_type": "execute_result",
          "data": {
            "text/plain": [
              "array([0.91962151, 0.88378558])"
            ]
          },
          "metadata": {
            "tags": []
          },
          "execution_count": 3
        }
      ]
    },
    {
      "cell_type": "code",
      "metadata": {
        "id": "T52b7KYDry_L"
      },
      "source": [
        ""
      ],
      "execution_count": null,
      "outputs": []
    }
  ]
}